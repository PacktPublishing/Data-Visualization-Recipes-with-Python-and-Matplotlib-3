{
 "cells": [
  {
   "cell_type": "code",
   "execution_count": 1,
   "metadata": {},
   "outputs": [],
   "source": [
    "# set matpltolob to draw plots inline\n",
    "%matplotlib inline\n",
    "\n",
    "# import matplotlib pyplot\n",
    "import matplotlib.pyplot as plt\n",
    "\n",
    "# import numpy\n",
    "import numpy as np \n",
    "\n",
    "# import pandas\n",
    "import pandas as pd"
   ]
  },
  {
   "cell_type": "markdown",
   "metadata": {},
   "source": [
    "####################################################"
   ]
  },
  {
   "cell_type": "code",
   "execution_count": 2,
   "metadata": {},
   "outputs": [],
   "source": [
    "# Online Retail Data Set\n",
    "# *from https://archive.ics.uci.edu/ml/datasets/online+retail\n",
    "\n",
    "# import dataset (excel file)\n",
    "data = pd.read_excel(\"online-retail.xlsx\")"
   ]
  },
  {
   "cell_type": "code",
   "execution_count": 4,
   "metadata": {},
   "outputs": [
    {
     "data": {
      "text/html": [
       "<div>\n",
       "<style scoped>\n",
       "    .dataframe tbody tr th:only-of-type {\n",
       "        vertical-align: middle;\n",
       "    }\n",
       "\n",
       "    .dataframe tbody tr th {\n",
       "        vertical-align: top;\n",
       "    }\n",
       "\n",
       "    .dataframe thead th {\n",
       "        text-align: right;\n",
       "    }\n",
       "</style>\n",
       "<table border=\"1\" class=\"dataframe\">\n",
       "  <thead>\n",
       "    <tr style=\"text-align: right;\">\n",
       "      <th></th>\n",
       "      <th>InvoiceNo</th>\n",
       "      <th>StockCode</th>\n",
       "      <th>Description</th>\n",
       "      <th>Quantity</th>\n",
       "      <th>InvoiceDate</th>\n",
       "      <th>UnitPrice</th>\n",
       "      <th>CustomerID</th>\n",
       "      <th>Country</th>\n",
       "    </tr>\n",
       "  </thead>\n",
       "  <tbody>\n",
       "    <tr>\n",
       "      <th>0</th>\n",
       "      <td>577130</td>\n",
       "      <td>22827</td>\n",
       "      <td>RUSTIC  SEVENTEEN DRAWER SIDEBOARD</td>\n",
       "      <td>1</td>\n",
       "      <td>2011-11-17 19:58:00</td>\n",
       "      <td>165.0</td>\n",
       "      <td>15861.0</td>\n",
       "      <td>United Kingdom</td>\n",
       "    </tr>\n",
       "    <tr>\n",
       "      <th>1</th>\n",
       "      <td>574705</td>\n",
       "      <td>22827</td>\n",
       "      <td>RUSTIC  SEVENTEEN DRAWER SIDEBOARD</td>\n",
       "      <td>1</td>\n",
       "      <td>2011-11-06 14:06:00</td>\n",
       "      <td>165.0</td>\n",
       "      <td>14553.0</td>\n",
       "      <td>United Kingdom</td>\n",
       "    </tr>\n",
       "    <tr>\n",
       "      <th>2</th>\n",
       "      <td>567616</td>\n",
       "      <td>22827</td>\n",
       "      <td>RUSTIC  SEVENTEEN DRAWER SIDEBOARD</td>\n",
       "      <td>1</td>\n",
       "      <td>2011-09-21 12:23:00</td>\n",
       "      <td>165.0</td>\n",
       "      <td>14911.0</td>\n",
       "      <td>EIRE</td>\n",
       "    </tr>\n",
       "    <tr>\n",
       "      <th>3</th>\n",
       "      <td>567139</td>\n",
       "      <td>22828</td>\n",
       "      <td>REGENCY MIRROR WITH SHUTTERS</td>\n",
       "      <td>1</td>\n",
       "      <td>2011-09-16 14:45:00</td>\n",
       "      <td>165.0</td>\n",
       "      <td>13563.0</td>\n",
       "      <td>United Kingdom</td>\n",
       "    </tr>\n",
       "    <tr>\n",
       "      <th>4</th>\n",
       "      <td>566184</td>\n",
       "      <td>22827</td>\n",
       "      <td>RUSTIC  SEVENTEEN DRAWER SIDEBOARD</td>\n",
       "      <td>1</td>\n",
       "      <td>2011-09-09 13:01:00</td>\n",
       "      <td>165.0</td>\n",
       "      <td>16723.0</td>\n",
       "      <td>United Kingdom</td>\n",
       "    </tr>\n",
       "  </tbody>\n",
       "</table>\n",
       "</div>"
      ],
      "text/plain": [
       "   InvoiceNo StockCode                         Description  Quantity  \\\n",
       "0     577130     22827  RUSTIC  SEVENTEEN DRAWER SIDEBOARD         1   \n",
       "1     574705     22827  RUSTIC  SEVENTEEN DRAWER SIDEBOARD         1   \n",
       "2     567616     22827  RUSTIC  SEVENTEEN DRAWER SIDEBOARD         1   \n",
       "3     567139     22828        REGENCY MIRROR WITH SHUTTERS         1   \n",
       "4     566184     22827  RUSTIC  SEVENTEEN DRAWER SIDEBOARD         1   \n",
       "\n",
       "          InvoiceDate  UnitPrice  CustomerID         Country  \n",
       "0 2011-11-17 19:58:00      165.0     15861.0  United Kingdom  \n",
       "1 2011-11-06 14:06:00      165.0     14553.0  United Kingdom  \n",
       "2 2011-09-21 12:23:00      165.0     14911.0            EIRE  \n",
       "3 2011-09-16 14:45:00      165.0     13563.0  United Kingdom  \n",
       "4 2011-09-09 13:01:00      165.0     16723.0  United Kingdom  "
      ]
     },
     "execution_count": 4,
     "metadata": {},
     "output_type": "execute_result"
    }
   ],
   "source": [
    "# Explore Data\n",
    "data.head()"
   ]
  },
  {
   "cell_type": "code",
   "execution_count": 10,
   "metadata": {},
   "outputs": [
    {
     "data": {
      "text/html": [
       "<div>\n",
       "<style scoped>\n",
       "    .dataframe tbody tr th:only-of-type {\n",
       "        vertical-align: middle;\n",
       "    }\n",
       "\n",
       "    .dataframe tbody tr th {\n",
       "        vertical-align: top;\n",
       "    }\n",
       "\n",
       "    .dataframe thead th {\n",
       "        text-align: right;\n",
       "    }\n",
       "</style>\n",
       "<table border=\"1\" class=\"dataframe\">\n",
       "  <thead>\n",
       "    <tr style=\"text-align: right;\">\n",
       "      <th></th>\n",
       "      <th>total_sales</th>\n",
       "    </tr>\n",
       "    <tr>\n",
       "      <th>StockCode</th>\n",
       "      <th></th>\n",
       "    </tr>\n",
       "  </thead>\n",
       "  <tbody>\n",
       "    <tr>\n",
       "      <th>10002</th>\n",
       "      <td>860</td>\n",
       "    </tr>\n",
       "    <tr>\n",
       "      <th>10080</th>\n",
       "      <td>303</td>\n",
       "    </tr>\n",
       "    <tr>\n",
       "      <th>10120</th>\n",
       "      <td>193</td>\n",
       "    </tr>\n",
       "    <tr>\n",
       "      <th>10125</th>\n",
       "      <td>1296</td>\n",
       "    </tr>\n",
       "    <tr>\n",
       "      <th>10133</th>\n",
       "      <td>2867</td>\n",
       "    </tr>\n",
       "  </tbody>\n",
       "</table>\n",
       "</div>"
      ],
      "text/plain": [
       "           total_sales\n",
       "StockCode             \n",
       "10002              860\n",
       "10080              303\n",
       "10120              193\n",
       "10125             1296\n",
       "10133             2867"
      ]
     },
     "execution_count": 10,
     "metadata": {},
     "output_type": "execute_result"
    }
   ],
   "source": [
    "sales_by_product = pd.DataFrame({'total_sales' : data.groupby( [\"StockCode\"] )['Quantity'].\n",
    "                             sum()}).reset_index().set_index(['StockCode'])\n",
    "sales_by_product.head()"
   ]
  },
  {
   "cell_type": "code",
   "execution_count": 11,
   "metadata": {},
   "outputs": [
    {
     "data": {
      "image/png": "[encoded data removed]",
      "text/plain": [
       "<Figure size 864x360 with 1 Axes>"
      ]
     },
     "metadata": {
      "needs_background": "light"
     },
     "output_type": "display_data"
    }
   ],
   "source": [
    "plt.figure(figsize=(12,5));\n",
    "chart = sales_by_product.total_sales.plot(kind='bar');"
   ]
  },
  {
   "cell_type": "code",
   "execution_count": 12,
   "metadata": {},
   "outputs": [
    {
     "data": {
      "image/png": "[encoded data removed]",
      "text/plain": [
       "<Figure size 864x360 with 1 Axes>"
      ]
     },
     "metadata": {
      "needs_background": "light"
     },
     "output_type": "display_data"
    }
   ],
   "source": [
    "top10 = sales_by_product.sort_values(\"total_sales\")[:10]\n",
    "\n",
    "plt.figure(figsize=(12,5));\n",
    "chart = top10.total_sales.plot(kind='bar');"
   ]
  },
  {
   "cell_type": "code",
   "execution_count": 13,
   "metadata": {},
   "outputs": [
    {
     "data": {
      "image/png": "[encoded data removed]",
      "text/plain": [
       "<Figure size 864x360 with 1 Axes>"
      ]
     },
     "metadata": {
      "needs_background": "light"
     },
     "output_type": "display_data"
    }
   ],
   "source": [
    "top10 = sales_by_product.sort_values(\"total_sales\", ascending=False)[:10]\n",
    "\n",
    "plt.figure(figsize=(12,5));\n",
    "chart = top10.total_sales.plot(kind='bar');"
   ]
  },
  {
   "cell_type": "code",
   "execution_count": null,
   "metadata": {},
   "outputs": [],
   "source": []
  }
 ],
 "metadata": {
  "kernelspec": {
   "display_name": "Python 3",
   "language": "python",
   "name": "python3"
  },
  "language_info": {
   "codemirror_mode": {
    "name": "ipython",
    "version": 3
   },
   "file_extension": ".py",
   "mimetype": "text/x-python",
   "name": "python",
   "nbconvert_exporter": "python",
   "pygments_lexer": "ipython3",
   "version": "3.6.6"
  }
 },
 "nbformat": 4,
 "nbformat_minor": 2
}
